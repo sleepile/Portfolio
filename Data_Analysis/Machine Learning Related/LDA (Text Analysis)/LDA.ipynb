{
 "cells": [
  {
   "cell_type": "code",
   "execution_count": 1,
   "id": "6b38dea9-c5ad-4943-9361-d625cd9bfc8c",
   "metadata": {},
   "outputs": [],
   "source": [
    "#导入jieba\n",
    "import jieba\n",
    "\n",
    "#导入停用词表\n",
    "with open('stopwords_total.txt','r',encoding=\"utf-8\") as scu_stopwords:\n",
    "    stopwords = set(scu_stopwords.read().splitlines()) \n",
    "\n",
    "#词典\n",
    "#jieba.load_userdict(词典地址)\n",
    "#因为在导出的时候可以选择编码，所以这里导入的txt文件直接就是utf-8编码\n",
    "# 读取文件\n",
    "with open(\"txt_general_cut.txt\", \"r\", encoding=\"utf-8\") as txt:\n",
    "    content = txt.read()"
   ]
  },
  {
   "cell_type": "markdown",
   "id": "54d40e52-d69a-41eb-84f1-245123674237",
   "metadata": {},
   "source": [
    "# 分词"
   ]
  },
  {
   "cell_type": "code",
   "execution_count": null,
   "id": "5d791b2e-1c2f-4563-ac4d-b6ef0866d29f",
   "metadata": {},
   "outputs": [],
   "source": [
    "# 分词\n",
    "words1 = jieba.lcut(content)\n",
    "# 去除停用词，同时除去字数<2的词\n",
    "words2 = [w for w in words1 if w not in stopwords]\n",
    "\n",
    "# 写入分词结果\n",
    "with open(\"stage1cut2.txt\", \"w\", encoding=\"utf-8\") as result:\n",
    "    result.write(\" \".join(words2))"
   ]
  },
  {
   "cell_type": "markdown",
   "id": "bb2e3c97-cba0-4bb6-b201-17ed1a73716c",
   "metadata": {},
   "source": [
    "## 分词结果处理"
   ]
  },
  {
   "cell_type": "code",
   "execution_count": 42,
   "id": "01e2aa35-0d30-4c4b-9016-49d851a819d7",
   "metadata": {},
   "outputs": [
    {
     "name": "stdout",
     "output_type": "stream",
     "text": [
      "病人          190\n",
      "医生          146\n",
      "手术           95\n",
      "工作           78\n",
      "露西           72\n",
      "生命           70\n",
      "死亡           65\n",
      "神经外科         60\n",
      "时间           58\n",
      "生活           55\n",
      "孩子           54\n",
      "癌症           53\n",
      "治疗           46\n",
      "肿瘤           45\n",
      "住院医生         43\n",
      "意义           42\n",
      "医院           41\n",
      "希望           40\n",
      "艾玛           38\n",
      "事情           34\n",
      "手术室          32\n",
      "护士           29\n",
      "病房           29\n",
      "研究           28\n",
      "尸体           28\n",
      "大脑           28\n",
      "科学           28\n",
      "发现           27\n",
      "未来           27\n",
      "痛苦           27\n",
      "接受           26\n",
      "医学           26\n",
      "人生           26\n",
      "告诉           26\n",
      "主治医生         26\n",
      "面对           26\n",
      "医学院          26\n",
      "神经           26\n",
      "世界           25\n",
      "身体           24\n"
     ]
    }
   ],
   "source": [
    "# 词频统计2\n",
    "counts2 = {}\n",
    "for word in words2:\n",
    "    if len(word) == 1:\n",
    "        continue\n",
    "    counts2[word] = counts2.get(word, 0) + 1\n",
    "\n",
    "# 排序\n",
    "items2 = sorted(counts2.items(), key=lambda x: x[1], reverse=True)\n",
    "\n",
    "# 输出和写入高频词\n",
    "with open(\"stage1highFrequency2.txt\", \"a\", encoding=\"utf-8\") as result:\n",
    "    for i in range(min(40, len(items2))):\n",
    "        word, count = items2[i]\n",
    "        print(u\"{0:<10}{1:>5}\".format(word, count))\n",
    "        result.write(f\"{word}: {count}\\n\")"
   ]
  },
  {
   "cell_type": "code",
   "execution_count": 43,
   "id": "d8d8ab30-9581-482b-91fd-c09efbe77b90",
   "metadata": {},
   "outputs": [],
   "source": [
    "##检查是否为utf=8"
   ]
  },
  {
   "cell_type": "code",
   "execution_count": 44,
   "id": "ffebbb53-21a2-42ec-b9d0-05e2da85c49a",
   "metadata": {},
   "outputs": [
    {
     "name": "stdout",
     "output_type": "stream",
     "text": [
      "{'encoding': 'utf-8', 'confidence': 0.99, 'language': ''}\n"
     ]
    }
   ],
   "source": [
    "import chardet\n",
    "\n",
    "with open('stage1cut1.txt', 'rb') as f:\n",
    "    data = f.read()\n",
    "    result = chardet.detect(data)\n",
    "    print(result)"
   ]
  },
  {
   "cell_type": "markdown",
   "id": "2d842b40-e417-47f5-8bc4-50bbfa7c2288",
   "metadata": {},
   "source": [
    "## LDA"
   ]
  },
  {
   "cell_type": "code",
   "execution_count": 45,
   "id": "84326713-bcc3-4885-b4ba-adf63e9a8887",
   "metadata": {},
   "outputs": [],
   "source": [
    "train2 = []\n",
    "\n",
    "with open(\"stage1cut2.txt\", \"r\", encoding=\"utf-8\") as wordspilt:\n",
    "    for line in wordspilt:\n",
    "        if line != '':\n",
    "            line = line.split()\n",
    "            train2.append([w for w in line])\n",
    "            #这里每一个元素是一个词列表,代表一篇文档(此处是代表一个句子)\n",
    "            #后期看看这里能不能优化？还是其实不管分成几个文档，结果都一样？"
   ]
  },
  {
   "cell_type": "code",
   "execution_count": 61,
   "id": "4daee867-1df1-48cd-8d94-af7ac0b7909a",
   "metadata": {},
   "outputs": [],
   "source": [
    "from gensim import corpora\n",
    "from gensim.models import LdaModel\n",
    "\n",
    "dictionary2 = corpora.Dictionary(train2)\n",
    "corpus2 = [dictionary2.doc2bow(text) for text in train2]\n",
    "\n",
    "#训练LDA\n",
    "#num_topics=5，即输出5个主题\n",
    "lda2 = LdaModel(corpus=corpus2, id2word=dictionary2, num_topics=3, passes=60)"
   ]
  },
  {
   "cell_type": "code",
   "execution_count": 62,
   "id": "5f227791-3b6c-4e68-851e-ef5b2cb93fbd",
   "metadata": {},
   "outputs": [
    {
     "name": "stdout",
     "output_type": "stream",
     "text": [
      "0:\n",
      " \"说\" (0.014)\n",
      " \"做\" ( 0.008)\n",
      " \"手术\" ( 0.007)\n",
      " \"病人\" ( 0.006)\n",
      " \"时间\" ( 0.005)\n",
      " \"想\" ( 0.004)\n",
      " \"死亡\" ( 0.004)\n",
      " \"医生\" ( 0.003)\n",
      " \"生命\" ( 0.003)\n",
      " \"里\" ( 0.003)\n",
      " \"住院医生\" ( 0.003)\n",
      " \"中\" ( 0.003)\n",
      " \"…\" ( 0.003)\n",
      " \"大脑\" ( 0.003)\n",
      " \"工作\" ( 0.003)\n",
      " \"孩子\" ( 0.002)\n",
      " \"医院\" ( 0.002)\n",
      " \"医学院\" ( 0.002)\n",
      " \"治疗\" ( 0.002)\n",
      " \"露西\" ( 0.002)\n",
      " \"更\" ( 0.002)\n",
      " \"时\" ( 0.002)\n",
      " \"完\" ( 0.002)\n",
      " \"手术室\" ( 0.002)\n",
      " \"生活\" ( 0.002)\n",
      " \"面对\" ( 0.002)\n",
      " \"走\" ( 0.002)\n",
      " \"喜欢\" ( 0.002)\n",
      " \"神经\" ( 0.002)\n",
      " \"缝合\" ( 0.002)\n",
      " \"化疗\" ( 0.002)\n",
      " \"慢慢\" ( 0.002)\n",
      " \"过程\" ( 0.002)\n",
      " \"研究\" ( 0.002)\n",
      " \"明白\" ( 0.002)\n",
      " \"告诉\" ( 0.001)\n",
      " \"主治医生\" ( 0.001)\n",
      " \"意义\" ( 0.001)\n",
      " \"希望\" ( 0.001)\n",
      " \"神经外科\" ( 0.001)\n",
      " \"实验室\" ( 0.001)\n",
      " \"吃\" ( 0.001)\n",
      " \"前\" ( 0.001)\n",
      " \"找\" ( 0.001)\n",
      " \"问\" ( 0.001)\n",
      " \"选择\" ( 0.001)\n",
      " \"数据\" ( 0.001)\n",
      " \"躺\" ( 0.001)\n",
      " \"结束\" ( 0.001)\n",
      " \"V\"( 0.001)\n",
      "1:\n",
      " \"…\" (0.008)\n",
      " \"医生\" ( 0.006)\n",
      " \"病人\" ( 0.005)\n",
      " \"说\" ( 0.005)\n",
      " \"做\" ( 0.004)\n",
      " \"神经外科\" ( 0.004)\n",
      " \"中\" ( 0.003)\n",
      " \"没\" ( 0.003)\n",
      " \"死亡\" ( 0.003)\n",
      " \"癌症\" ( 0.003)\n",
      " \"工作\" ( 0.003)\n",
      " \"更\" ( 0.003)\n",
      " \"里\" ( 0.002)\n",
      " \"时\" ( 0.002)\n",
      " \"手术\" ( 0.002)\n",
      " \"生活\" ( 0.002)\n",
      " \"想\" ( 0.002)\n",
      " \"治疗\" ( 0.002)\n",
      " \"身体\" ( 0.002)\n",
      " \"露西\" ( 0.002)\n",
      " \"事情\" ( 0.002)\n",
      " \"片子\" ( 0.002)\n",
      " \"护士\" ( 0.002)\n",
      " \"问\" ( 0.002)\n",
      " \"生命\" ( 0.002)\n",
      " \"月\" ( 0.002)\n",
      " \"找\" ( 0.002)\n",
      " \"医学院\" ( 0.002)\n",
      " \"住院医生\" ( 0.002)\n",
      " \"主治医生\" ( 0.001)\n",
      " \"数据\" ( 0.001)\n",
      " \"意义\" ( 0.001)\n",
      " \"手\" ( 0.001)\n",
      " \"痛苦\" ( 0.001)\n",
      " \"朋友\" ( 0.001)\n",
      " \"发现\" ( 0.001)\n",
      " \"可能性\" ( 0.001)\n",
      " \"接受\" ( 0.001)\n",
      " \"重症\" ( 0.001)\n",
      " \"教授\" ( 0.001)\n",
      " \"孩子\" ( 0.001)\n",
      " \"眼前\" ( 0.001)\n",
      " \"神经\" ( 0.001)\n",
      " \"慢慢\" ( 0.001)\n",
      " \"时间\" ( 0.001)\n",
      " \"创伤\" ( 0.001)\n",
      " \"听\" ( 0.001)\n",
      " \"皮肤\" ( 0.001)\n",
      " \"割开\" ( 0.001)\n",
      " \"进\"( 0.001)\n",
      "2:\n",
      " \"说\" (0.015)\n",
      " \"病人\" ( 0.012)\n",
      " \"医生\" ( 0.008)\n",
      " \"做\" ( 0.006)\n",
      " \"想\" ( 0.006)\n",
      " \"中\" ( 0.005)\n",
      " \"露西\" ( 0.004)\n",
      " \"工作\" ( 0.004)\n",
      " \"里\" ( 0.004)\n",
      " \"生命\" ( 0.004)\n",
      " \"癌症\" ( 0.004)\n",
      " \"手术\" ( 0.004)\n",
      " \"…\" ( 0.003)\n",
      " \"没\" ( 0.003)\n",
      " \"肿瘤\" ( 0.003)\n",
      " \"孩子\" ( 0.003)\n",
      " \"生活\" ( 0.003)\n",
      " \"神经外科\" ( 0.003)\n",
      " \"艾玛\" ( 0.003)\n",
      " \"希望\" ( 0.003)\n",
      " \"意义\" ( 0.002)\n",
      " \"更\" ( 0.002)\n",
      " \"死亡\" ( 0.002)\n",
      " \"时\" ( 0.002)\n",
      " \"病房\" ( 0.002)\n",
      " \"时间\" ( 0.002)\n",
      " \"问\" ( 0.002)\n",
      " \"治疗\" ( 0.002)\n",
      " \"前\" ( 0.002)\n",
      " \"计划\" ( 0.002)\n",
      " \"未来\" ( 0.002)\n",
      " \"医院\" ( 0.002)\n",
      " \"月\" ( 0.002)\n",
      " \"世界\" ( 0.002)\n",
      " \"科学\" ( 0.002)\n",
      " \"人生\" ( 0.002)\n",
      " \"父亲\" ( 0.002)\n",
      " \"检查\" ( 0.002)\n",
      " \"见\" ( 0.002)\n",
      " \"住院医生\" ( 0.002)\n",
      " \"太\" ( 0.002)\n",
      " \"研究\" ( 0.002)\n",
      " \"新\" ( 0.002)\n",
      " \"事情\" ( 0.002)\n",
      " \"关系\" ( 0.001)\n",
      " \"外科医生\" ( 0.001)\n",
      " \"尸体\" ( 0.001)\n",
      " \"大学\" ( 0.001)\n",
      " \"躺\" ( 0.001)\n",
      " \"事\"( 0.001)\n"
     ]
    }
   ],
   "source": [
    "#输出每个主题的关键词和权重\n",
    "#num_words=10，即输出10个词/主题\n",
    "for topic in lda2.print_topics(num_words=50):\n",
    "    termNumber = topic[0]\n",
    "    print(topic[0], ':', sep='')\n",
    "    listOfTerms = topic[1].split('+')\n",
    "    for term in listOfTerms:\n",
    "        listItems = term.split('*')\n",
    "        print(' ', listItems[1], '(', listItems[0], ')', sep='')\n"
   ]
  },
  {
   "cell_type": "markdown",
   "id": "a3d5691e-79d4-4817-bea1-4fdeaa8c8e90",
   "metadata": {},
   "source": [
    "# 可视化"
   ]
  },
  {
   "cell_type": "markdown",
   "id": "05f3f5c8-8135-4f21-9311-a9b1f3f73869",
   "metadata": {},
   "source": [
    "## 检查"
   ]
  },
  {
   "cell_type": "code",
   "execution_count": 63,
   "id": "a7811001-c213-45ee-a53c-18848bb2ab0d",
   "metadata": {},
   "outputs": [],
   "source": [
    "# 检查 corpus 是否含复数\n",
    "for doc in corpus2:\n",
    "    for id, freq in doc:\n",
    "        if isinstance(freq, complex):\n",
    "            print(f\"复数出现: {id}, {freq}\")\n",
    "\n",
    "# 检查 dictionary 是否正常\n",
    "#print(dictionary2.token2id)"
   ]
  },
  {
   "cell_type": "markdown",
   "id": "b1c22ea3-56c2-4f30-88d7-d63e8e525427",
   "metadata": {},
   "source": [
    "## 进行可视化"
   ]
  },
  {
   "cell_type": "code",
   "execution_count": 64,
   "id": "5b46714f-0db9-41f7-bda2-4311ff828f0b",
   "metadata": {},
   "outputs": [],
   "source": [
    "import pyLDAvis\n",
    "import pyLDAvis.gensim\n",
    "\n",
    "### LDA2\n",
    "graph2 = pyLDAvis.gensim.prepare(lda2,corpus2,dictionary2)\n",
    "pyLDAvis.save_html(graph2,\"lda_vis_total.html\")"
   ]
  },
  {
   "cell_type": "code",
   "execution_count": 60,
   "id": "990ddd18-f616-4fc2-ba29-18a75f8e353f",
   "metadata": {},
   "outputs": [],
   "source": [
    "# pyLDAvis.show(graph)"
   ]
  }
 ],
 "metadata": {
  "kernelspec": {
   "display_name": "Python 3 (ipykernel)",
   "language": "python",
   "name": "python3"
  },
  "language_info": {
   "codemirror_mode": {
    "name": "ipython",
    "version": 3
   },
   "file_extension": ".py",
   "mimetype": "text/x-python",
   "name": "python",
   "nbconvert_exporter": "python",
   "pygments_lexer": "ipython3",
   "version": "3.12.7"
  }
 },
 "nbformat": 4,
 "nbformat_minor": 5
}
